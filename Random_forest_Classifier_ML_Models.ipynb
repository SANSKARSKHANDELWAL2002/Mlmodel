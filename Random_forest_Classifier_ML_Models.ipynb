{
  "nbformat": 4,
  "nbformat_minor": 0,
  "metadata": {
    "colab": {
      "provenance": [],
      "authorship_tag": "ABX9TyPmgzIi1sWJchkVaTuWhJTr",
      "include_colab_link": true
    },
    "kernelspec": {
      "name": "python3",
      "display_name": "Python 3"
    },
    "language_info": {
      "name": "python"
    },
    "accelerator": "TPU"
  },
  "cells": [
    {
      "cell_type": "markdown",
      "metadata": {
        "id": "view-in-github",
        "colab_type": "text"
      },
      "source": [
        "<a href=\"https://colab.research.google.com/github/SANSKARSKHANDELWAL2002/Mlmodel/blob/main/Random_forest_Classifier_ML_Models.ipynb\" target=\"_parent\"><img src=\"https://colab.research.google.com/assets/colab-badge.svg\" alt=\"Open In Colab\"/></a>"
      ]
    },
    {
      "cell_type": "code",
      "source": [
        "# Random ForestClassifier Model"
      ],
      "metadata": {
        "id": "s1jr2UO4eJQn"
      },
      "execution_count": null,
      "outputs": []
    },
    {
      "cell_type": "code",
      "execution_count": null,
      "metadata": {
        "colab": {
          "base_uri": "https://localhost:8080/"
        },
        "id": "X2_HVKUOWCXJ",
        "outputId": "8d855b3d-3b0f-4f86-af33-8d87c82b9bba"
      },
      "outputs": [
        {
          "output_type": "stream",
          "name": "stdout",
          "text": [
            "Mounted at /content/drive\n"
          ]
        }
      ],
      "source": [
        "from google.colab import drive\n",
        "drive.mount('/content/drive')"
      ]
    },
    {
      "cell_type": "code",
      "source": [
        "# drive.mount(\"/content/drive\", force_remount=True)"
      ],
      "metadata": {
        "colab": {
          "base_uri": "https://localhost:8080/"
        },
        "id": "tf7eGWYmz3Qp",
        "outputId": "d8d3461e-bb54-4093-b3e8-1b40029146e4"
      },
      "execution_count": null,
      "outputs": [
        {
          "output_type": "stream",
          "name": "stdout",
          "text": [
            "Mounted at /content/drive\n"
          ]
        }
      ]
    },
    {
      "cell_type": "code",
      "source": [
        "import numpy as np\n",
        "from sklearn.ensemble import RandomForestClassifier\n",
        "from sklearn.metrics import accuracy_score\n",
        "\n",
        "# Load the .npy data\n",
        "data = np.load('/content/drive/MyDrive/Colab Notebooks/Copy of TRAIN_k_4doutput.npy')\n",
        "\n",
        "train_data = data[:, :, :, :1]\n",
        "train_labels = data[:, :, :, 1:]\n",
        "\n",
        "# Reshape the data to have dimensions (num_samples, num_features)\n",
        "num_samples, num_rows, num_columns, num_features = data.shape\n",
        "reshaped_data = data.reshape(num_samples,num_rows*num_columns, -1)\n",
        "\n",
        "# Train a separate Random Forest model for each time step\n",
        "num_time_steps = num_samples\n",
        "models = []\n",
        "\n",
        "for time_step in range(num_time_steps):\n",
        "    X = reshaped_data[time_step, :, :num_features - 1]  # Pixel values\n",
        "    y = reshaped_data[time_step, :, -1]  # Labels\n",
        "\n",
        "    # Create a Random Forest classifier\n",
        "    rf_classifier = RandomForestClassifier(n_estimators=100, random_state=42)\n",
        "\n",
        "    # Train the classifier\n",
        "    rf_classifier.fit(X, y)\n",
        "\n",
        "    models.append(rf_classifier)\n",
        "\n",
        "# Evaluate the models on the test set\n",
        "accuracies = []\n",
        "\n",
        "for time_step in range(num_time_steps):\n",
        "    X_test = reshaped_data[time_step, :, :num_features - 1]  # Pixel values\n",
        "    y_test = reshaped_data[time_step, :, -1]  # Labels\n",
        "\n",
        "    model = models[time_step]\n",
        "    predictions = model.predict(X_test)\n",
        "    accuracy = accuracy_score(y_test, predictions)\n",
        "    accuracies.append(accuracy)\n",
        "\n",
        "# Print accuracies for each time step\n",
        "for time_step, accuracy in enumerate(accuracies):\n",
        "    print(f\"Time Step {time_step}: Accuracy = {accuracy}\")\n"
      ],
      "metadata": {
        "colab": {
          "base_uri": "https://localhost:8080/"
        },
        "id": "mbVulQeYcEMJ",
        "outputId": "a8abdd36-a8a0-492c-d4e0-bb83e633d3e2"
      },
      "execution_count": null,
      "outputs": [
        {
          "output_type": "stream",
          "name": "stdout",
          "text": [
            "Time Step 0: Accuracy = 0.9935238322971465\n",
            "Time Step 1: Accuracy = 0.995177745895106\n",
            "Time Step 2: Accuracy = 0.9918300653594772\n",
            "Time Step 3: Accuracy = 0.9950382592061214\n",
            "Time Step 4: Accuracy = 0.9914913119719433\n",
            "Time Step 5: Accuracy = 0.9854933843456082\n",
            "Time Step 6: Accuracy = 0.982524310537223\n",
            "Time Step 7: Accuracy = 0.9832615973218556\n",
            "Time Step 8: Accuracy = 0.9805515702215846\n",
            "Time Step 9: Accuracy = 0.9699505818587598\n",
            "Time Step 10: Accuracy = 0.9704487486051331\n",
            "Time Step 11: Accuracy = 0.9751912960306074\n",
            "Time Step 12: Accuracy = 0.9712059620596206\n",
            "Time Step 13: Accuracy = 0.9917304320102025\n",
            "Time Step 14: Accuracy = 0.987944364737765\n"
          ]
        }
      ]
    },
    {
      "cell_type": "code",
      "source": [
        "test_data = np.load('/content/drive/MyDrive/Colab Notebooks/Copy of Copy of TEST_110_4doutput.npy')\n",
        "accuracies = []\n",
        "num_samples, num_rows, num_columns, num_features = data.shape\n",
        "reshaped_data = test_data.reshape(num_samples,num_rows*num_columns, -1)\n",
        "\n",
        "# Train a separate Random Forest model for each time step\n",
        "num_time_steps = num_samples\n",
        "for time_step in range(num_time_steps):\n",
        "    X_test = reshaped_data[time_step, :, :num_features - 1]  # Pixel values\n",
        "    y_test = reshaped_data[time_step, :, -1]  # Labels\n",
        "\n",
        "    model = models[time_step]\n",
        "    predictions = model.predict(X_test)\n",
        "    accuracy = accuracy_score(y_test, predictions)\n",
        "    accuracies.append(accuracy)\n",
        "\n",
        "# Print accuracies for each time step\n",
        "for time_step, accuracy in enumerate(accuracies):\n",
        "    print(f\"Time Step {time_step}: Accuracy = {accuracy}\")"
      ],
      "metadata": {
        "colab": {
          "base_uri": "https://localhost:8080/"
        },
        "id": "viMoUfTbe-cw",
        "outputId": "9743e0dd-629d-4dec-c35c-d9d0f901735d"
      },
      "execution_count": null,
      "outputs": [
        {
          "output_type": "stream",
          "name": "stdout",
          "text": [
            "Time Step 0: Accuracy = 0.919874860513311\n",
            "Time Step 1: Accuracy = 0.9316116690578671\n",
            "Time Step 2: Accuracy = 0.9358759764068229\n",
            "Time Step 3: Accuracy = 0.934660449545672\n",
            "Time Step 4: Accuracy = 0.9201936872309899\n",
            "Time Step 5: Accuracy = 0.9071815718157181\n",
            "Time Step 6: Accuracy = 0.9005858440937351\n",
            "Time Step 7: Accuracy = 0.886736808544556\n",
            "Time Step 8: Accuracy = 0.883727881396461\n",
            "Time Step 9: Accuracy = 0.8473218555714969\n",
            "Time Step 10: Accuracy = 0.8439143950263032\n",
            "Time Step 11: Accuracy = 0.8535389765662362\n",
            "Time Step 12: Accuracy = 0.8905627291567033\n",
            "Time Step 13: Accuracy = 0.9171050534034753\n",
            "Time Step 14: Accuracy = 0.8955045432807269\n"
          ]
        }
      ]
    },
    {
      "cell_type": "code",
      "source": [
        "import numpy as np\n",
        "\n",
        "data = np.load('/content/drive/MyDrive/Colab Notebooks/Copy of TRAIN_k_4doutput.npy')\n",
        "test_data = np.load('/content/drive/MyDrive/Colab Notebooks/Copy of Copy of TEST_110_4doutput.npy')\n",
        "\n",
        "# Reshape the training and testing data\n",
        "num_samples, num_time_steps, num_rows, num_features = data.shape\n",
        "train_data = data.reshape(num_samples, -1, num_features)\n",
        "train_labels = train_data[:, :, 1:]  # Assuming you want to keep only the second feature\n",
        "\n",
        "num_samples_test, num_time_steps_test, _, _ = test_data.shape\n",
        "test_data = test_data.reshape(num_samples_test, -1, num_features)\n",
        "test_labels = test_data[:, :, 1:]  # Assuming you want to keep only the second feature\n",
        "\n",
        "print(train_data.shape)\n",
        "print(train_labels.shape)\n",
        "print(test_data.shape)\n",
        "print(test_labels.shape)"
      ],
      "metadata": {
        "colab": {
          "base_uri": "https://localhost:8080/"
        },
        "id": "GQIXLFamW-I4",
        "outputId": "10876eb6-72c3-41ac-f934-77fbf85a7493"
      },
      "execution_count": null,
      "outputs": [
        {
          "output_type": "stream",
          "name": "stdout",
          "text": [
            "(15, 50184, 2)\n",
            "(15, 50184, 1)\n",
            "(15, 50184, 2)\n",
            "(15, 50184, 1)\n"
          ]
        }
      ]
    },
    {
      "cell_type": "code",
      "source": [
        "model.save('/content/drive/MyDrive/Colab Notebooks/Random_forest_Classifier_Output.h5')"
      ],
      "metadata": {
        "id": "_NarlmV5wN-b",
        "colab": {
          "base_uri": "https://localhost:8080/",
          "height": 175
        },
        "outputId": "4d199447-cbf9-4251-b2f6-9b2ef03e1a49"
      },
      "execution_count": null,
      "outputs": [
        {
          "output_type": "error",
          "ename": "AttributeError",
          "evalue": "ignored",
          "traceback": [
            "\u001b[0;31m---------------------------------------------------------------------------\u001b[0m",
            "\u001b[0;31mAttributeError\u001b[0m                            Traceback (most recent call last)",
            "\u001b[0;32m<ipython-input-5-fd01ff3a35ab>\u001b[0m in \u001b[0;36m<cell line: 1>\u001b[0;34m()\u001b[0m\n\u001b[0;32m----> 1\u001b[0;31m \u001b[0mmodel\u001b[0m\u001b[0;34m.\u001b[0m\u001b[0msave\u001b[0m\u001b[0;34m(\u001b[0m\u001b[0;34m'/content/drive/MyDrive/Colab Notebooks/Random_forest_Classifier_Output.h5'\u001b[0m\u001b[0;34m)\u001b[0m\u001b[0;34m\u001b[0m\u001b[0;34m\u001b[0m\u001b[0m\n\u001b[0m",
            "\u001b[0;31mAttributeError\u001b[0m: 'RandomForestClassifier' object has no attribute 'save'"
          ]
        }
      ]
    },
    {
      "cell_type": "code",
      "source": [
        "# Save the output data in .h5 format (if needed)\n",
        "import h5py\n",
        "\n",
        "output_filename = '/content/drive/MyDrive/Colab Notebooks/Random_forest_Classifier_Output.h5'\n",
        "\n",
        "with h5py.File(output_filename, 'w') as hf:\n",
        "    for time_step, accuracy in enumerate(accuracies):\n",
        "        hf.create_dataset(f\"Accuracy_Time_Step_{time_step}\", data=accuracy)"
      ],
      "metadata": {
        "id": "PItCBBtSg-cK"
      },
      "execution_count": null,
      "outputs": []
    },
    {
      "cell_type": "code",
      "source": [
        "import numpy as np\n",
        "from sklearn.ensemble import RandomForestClassifier\n",
        "from sklearn.metrics import accuracy_score\n",
        "import joblib  # Import joblib\n",
        "\n",
        "# Load the .npy data\n",
        "data = np.load('/content/drive/MyDrive/Colab Notebooks/Copy of TRAIN_k_4doutput.npy')\n",
        "\n",
        "train_data = data[:, :, :, :1]\n",
        "train_labels = data[:, :, :, 1:]\n",
        "\n",
        "# Reshape the data to have dimensions (num_samples, num_features)\n",
        "num_samples, num_rows, num_columns, num_features = data.shape\n",
        "reshaped_data = data.reshape(num_samples, num_rows * num_columns, -1)\n",
        "\n",
        "# Train a separate Random Forest model for each time step\n",
        "num_time_steps = num_samples\n",
        "models = []\n",
        "\n",
        "for time_step in range(num_time_steps):\n",
        "    X = reshaped_data[time_step, :, :num_features - 1]  # Pixel values\n",
        "    y = reshaped_data[time_step, :, -1]  # Labels\n",
        "\n",
        "    # Create a Random Forest classifier\n",
        "    rf_classifier = RandomForestClassifier(n_estimators=100, random_state=42)\n",
        "\n",
        "    # Train the classifier\n",
        "    rf_classifier.fit(X, y)\n",
        "\n",
        "    models.append(rf_classifier)\n",
        "\n",
        "# Save the models\n",
        "for time_step, model in enumerate(models):\n",
        "    model_filename = f'/content/drive/MyDrive/Colab Notebooks/model_time_step_{time_step}.joblib'\n",
        "    joblib.dump(model, model_filename)\n",
        "\n",
        "# Evaluate the models on the test set\n",
        "accuracies = []\n",
        "\n",
        "for time_step in range(num_time_steps):\n",
        "    X_test = reshaped_data[time_step, :, :num_features - 1]  # Pixel values\n",
        "    y_test = reshaped_data[time_step, :, -1]  # Labels\n",
        "\n",
        "    model = models[time_step]\n",
        "    predictions = model.predict(X_test)\n",
        "    accuracy = accuracy_score(y_test, predictions)\n",
        "    accuracies.append(accuracy)\n",
        "\n",
        "# Print accuracies for each time step\n",
        "for time_step, accuracy in enumerate(accuracies):\n",
        "    print(f\"Time Step {time_step}: Accuracy = {accuracy}\")\n",
        "\n",
        "test_data = np.load('/content/drive/MyDrive/Colab Notebooks/Copy of Copy of TEST_110_4doutput.npy')\n",
        "accuracies = []\n",
        "num_samples, num_rows, num_columns, num_features = data.shape\n",
        "reshaped_data = test_data.reshape(num_samples, num_rows * num_columns, -1)\n",
        "\n",
        "# Load the models\n",
        "loaded_models = []\n",
        "for time_step in range(num_time_steps):\n",
        "    model_filename = f'/content/drive/MyDrive/Colab Notebooks/model_time_step_{time_step}.joblib'\n",
        "    loaded_model = joblib.load(model_filename)\n",
        "    loaded_models.append(loaded_model)\n",
        "\n",
        "# Evaluate the loaded models on the test set\n",
        "for time_step in range(num_time_steps):\n",
        "    X_test = reshaped_data[time_step, :, :num_features - 1]  # Pixel values\n",
        "    y_test = reshaped_data[time_step, :, -1]  # Labels\n",
        "\n",
        "    model = loaded_models[time_step]\n",
        "    predictions = model.predict(X_test)\n",
        "    accuracy = accuracy_score(y_test, predictions)\n",
        "    accuracies.append(accuracy)\n",
        "\n",
        "# Print accuracies for each time step\n",
        "for time_step, accuracy in enumerate(accuracies):\n",
        "    print(f\"Time Step {time_step}: Accuracy = {accuracy}\")\n",
        "\n",
        "# Save the output data in .h5 format (if needed)\n",
        "import h5py\n",
        "\n",
        "output_filename = '/content/drive/MyDrive/Colab Notebooks/Random_forest_Classifier_Output.h5'\n",
        "\n",
        "with h5py.File(output_filename, 'w') as hf:\n",
        "    for time_step, accuracy in enumerate(accuracies):\n",
        "        hf.create_dataset(f\"Accuracy_Time_Step_{time_step}\", data=accuracy)"
      ],
      "metadata": {
        "colab": {
          "base_uri": "https://localhost:8080/"
        },
        "id": "ANYQdytAfDgL",
        "outputId": "c09c2e90-d155-4ad7-f99e-637694a509a9"
      },
      "execution_count": null,
      "outputs": [
        {
          "output_type": "stream",
          "name": "stdout",
          "text": [
            "Time Step 0: Accuracy = 0.9935238322971465\n",
            "Time Step 1: Accuracy = 0.995177745895106\n",
            "Time Step 2: Accuracy = 0.9918300653594772\n",
            "Time Step 3: Accuracy = 0.9950382592061214\n",
            "Time Step 4: Accuracy = 0.9914913119719433\n",
            "Time Step 5: Accuracy = 0.9854933843456082\n",
            "Time Step 6: Accuracy = 0.982524310537223\n",
            "Time Step 7: Accuracy = 0.9832615973218556\n",
            "Time Step 8: Accuracy = 0.9805515702215846\n",
            "Time Step 9: Accuracy = 0.9699505818587598\n",
            "Time Step 10: Accuracy = 0.9704487486051331\n",
            "Time Step 11: Accuracy = 0.9751912960306074\n",
            "Time Step 12: Accuracy = 0.9712059620596206\n",
            "Time Step 13: Accuracy = 0.9917304320102025\n",
            "Time Step 14: Accuracy = 0.987944364737765\n",
            "Time Step 0: Accuracy = 0.919874860513311\n",
            "Time Step 1: Accuracy = 0.9316116690578671\n",
            "Time Step 2: Accuracy = 0.9358759764068229\n",
            "Time Step 3: Accuracy = 0.934660449545672\n",
            "Time Step 4: Accuracy = 0.9201936872309899\n",
            "Time Step 5: Accuracy = 0.9071815718157181\n",
            "Time Step 6: Accuracy = 0.9005858440937351\n",
            "Time Step 7: Accuracy = 0.886736808544556\n",
            "Time Step 8: Accuracy = 0.883727881396461\n",
            "Time Step 9: Accuracy = 0.8473218555714969\n",
            "Time Step 10: Accuracy = 0.8439143950263032\n",
            "Time Step 11: Accuracy = 0.8535389765662362\n",
            "Time Step 12: Accuracy = 0.8905627291567033\n",
            "Time Step 13: Accuracy = 0.9171050534034753\n",
            "Time Step 14: Accuracy = 0.8955045432807269\n"
          ]
        }
      ]
    },
    {
      "cell_type": "code",
      "source": [
        "import numpy as np\n",
        "from sklearn.ensemble import RandomForestClassifier\n",
        "from sklearn.metrics import accuracy_score\n",
        "\n",
        "# Load the training data\n",
        "train_data = np.load('/content/drive/MyDrive/Colab Notebooks/Copy of TRAIN_k_4doutput.npy')\n",
        "\n",
        "# Load the test data\n",
        "test_data = np.load('/content/drive/MyDrive/Colab Notebooks/Copy of Copy of TEST_110_4doutput.npy')\n",
        "\n",
        "# Define the window size for the time series data\n",
        "window_size = 12  # Adjust this based on your dataset and task\n",
        "\n",
        "# Create sequences of data and labels for training\n",
        "train_sequences = []\n",
        "train_labels = []\n",
        "\n",
        "# Extract data and labels with overlapping windows for training\n",
        "for i in range(len(train_data) - window_size):\n",
        "    sequence = train_data[i:i + window_size, :, :, :1]\n",
        "    label = train_data[i + window_size, :, :, 1:]\n",
        "\n",
        "    train_sequences.append(sequence)\n",
        "    train_labels.append(label)\n",
        "\n",
        "# Combine sequences and labels\n",
        "train_sequences = np.array(train_sequences)\n",
        "train_labels = np.array(train_labels)\n",
        "\n",
        "# Reshape the data to have dimensions (num_samples, num_features)\n",
        "num_samples, num_windows, num_rows, num_columns, num_features = train_sequences.shape\n",
        "reshaped_train_data = train_sequences.reshape(num_samples * num_windows, num_rows * num_columns, -1)\n",
        "\n",
        "# Reshape the labels to have the same number of samples as reshaped_train_data\n",
        "num_samples_labels = num_samples * num_windows - window_size  # Adjusted for window size\n",
        "reshaped_train_labels = train_labels[window_size:].reshape(num_samples_labels, -1)\n",
        "\n",
        "# Train a separate Random Forest model for each label\n",
        "num_labels = reshaped_train_labels.shape[1]\n",
        "models = []\n",
        "\n",
        "for label_idx in range(num_labels):\n",
        "    X = reshaped_train_data[:, :, :num_features - 1]  # Pixel values\n",
        "    y = reshaped_train_labels[:, label_idx]  # One label at a time\n",
        "\n",
        "    # Create a Random Forest classifier\n",
        "    rf_classifier = RandomForestClassifier(n_estimators=100, random_state=42)\n",
        "\n",
        "    # Train the classifier\n",
        "    rf_classifier.fit(X, y)\n",
        "\n",
        "    models.append(rf_classifier)\n",
        "\n",
        "# Create sequences of test data for prediction\n",
        "test_sequences = []\n",
        "\n",
        "for i in range(len(test_data) - window_size):\n",
        "    test_sequence = test_data[i:i + window_size, :, :, :1]\n",
        "    test_sequences.append(test_sequence)\n",
        "\n",
        "test_sequences = np.array(test_sequences)\n",
        "\n",
        "# Reshape the test data\n",
        "num_test_samples, num_test_windows, _, _, _ = test_sequences.shape\n",
        "reshaped_test_data = test_sequences.reshape(num_test_samples * num_test_windows, num_rows * num_columns, -1)\n",
        "\n",
        "# Make predictions for each label using the corresponding model\n",
        "predictions = []\n",
        "\n",
        "for label_idx in range(num_labels):\n",
        "    model = models[label_idx]\n",
        "    label_predictions = model.predict(reshaped_test_data)\n",
        "    predictions.append(label_predictions)\n",
        "\n",
        "# Assuming that you have ground truth labels for the test set (adjust as needed)\n",
        "# Calculate accuracy or other appropriate metrics for each label based on your task\n",
        "# You may need to adjust this based on your evaluation criteria\n",
        "ground_truth_labels = test_data[window_size:, :, :, 1:].reshape(num_test_samples * num_test_windows - window_size, -1)\n",
        "\n",
        "for label_idx in range(num_labels):\n",
        "    accuracy = accuracy_score(ground_truth_labels[:, label_idx], predictions[label_idx])\n",
        "    print(f\"Accuracy for Label {label_idx}: {accuracy}\")\n"
      ],
      "metadata": {
        "id": "zQCYcISOze3B"
      },
      "execution_count": null,
      "outputs": []
    },
    {
      "cell_type": "code",
      "source": [],
      "metadata": {
        "id": "bCgQ1f0hzeqO"
      },
      "execution_count": null,
      "outputs": []
    },
    {
      "cell_type": "code",
      "source": [
        "# import numpy as np\n",
        "# import csv\n",
        "\n",
        "# # Load data from .npy file\n",
        "# data = np.load('/content/drive/MyDrive/Colab Notebooks/Copy of TRAIN_k_4doutput.npy')\n",
        "# print(data.shape)\n",
        "# # Define the CSV file name\n",
        "# csv_file_name = 'ML_Models_Output.csv'\n",
        "\n",
        "# # Open the CSV file for writing\n",
        "# with open(csv_file_name, mode='w', newline='') as csv_file:\n",
        "#     writer = csv.writer(csv_file)\n",
        "\n",
        "#     # Write header row\n",
        "#     writer.writerow([ 'Time Step', 'Row', 'Column', 'Feature Value'])\n",
        "\n",
        "#     # Write data to CSV\n",
        "#     num_time_steps, num_rows, num_columns, num_features = data.shape\n",
        "#     for time_step in range(num_time_steps):\n",
        "#         for row_idx in range(num_rows):\n",
        "#             for col_idx in range(num_columns):\n",
        "#                 for feature_idx in range(num_features):\n",
        "#                     value = data[ time_step, row_idx, col_idx, feature_idx]\n",
        "#                     writer.writerow([ time_step, row_idx, col_idx, feature_idx, value])\n",
        "\n",
        "# print(f'Output Data has been written to the\\n{csv_file_name}')"
      ],
      "metadata": {
        "colab": {
          "base_uri": "https://localhost:8080/"
        },
        "id": "i7DnP8s0cFlU",
        "outputId": "fdf24b81-6b57-46b6-b66e-8ccc278cdada"
      },
      "execution_count": null,
      "outputs": [
        {
          "output_type": "stream",
          "name": "stdout",
          "text": [
            "(15, 204, 246, 2)\n",
            "Output Data has been written to the\n",
            "ML_Models_Output.csv\n"
          ]
        }
      ]
    },
    {
      "cell_type": "code",
      "source": [],
      "metadata": {
        "id": "ZzYWInGc9bvB"
      },
      "execution_count": null,
      "outputs": []
    }
  ]
}